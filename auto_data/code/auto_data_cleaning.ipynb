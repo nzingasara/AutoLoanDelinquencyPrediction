{
 "cells": [
  {
   "cell_type": "code",
   "execution_count": 1,
   "metadata": {},
   "outputs": [],
   "source": [
    "import pandas as pd\n",
    "import numpy as np\n",
    "import datetime as dt"
   ]
  },
  {
   "cell_type": "code",
   "execution_count": 29,
   "metadata": {},
   "outputs": [],
   "source": [
    "df = pd.read_csv('auto_data.csv')"
   ]
  },
  {
   "cell_type": "code",
   "execution_count": 30,
   "metadata": {},
   "outputs": [
    {
     "name": "stdout",
     "output_type": "stream",
     "text": [
      "      loan_amnt state  annual_inc  int_rate  delinquent disbursal_date  \\\n",
      "0        2500.0    GA     30000.0    0.1527           1        2019-12   \n",
      "1        3000.0    CA     48000.0    0.1864           0        2019-12   \n",
      "2       12000.0    CA     50000.0    0.1596           1        2019-12   \n",
      "3        4500.0    TX     42000.0    0.1065           0        2019-12   \n",
      "4        3500.0    IL     83000.0    0.0603           0        2019-12   \n",
      "...         ...   ...         ...       ...         ...            ...   \n",
      "1610     4200.0    NY     10000.0    0.1312           0        2019-10   \n",
      "1611     4000.0    NY     50000.0    0.0933           0        2019-09   \n",
      "1612     8000.0    CT     25000.0    0.0996           0        2019-08   \n",
      "1613    10500.0    MD     62000.0    0.1533           0        2019-08   \n",
      "1614     5350.0    NJ      4000.0    0.1312           0        2019-07   \n",
      "\n",
      "      fico_low  fico_high  \n",
      "0        740.0      744.0  \n",
      "1        660.0      664.0  \n",
      "2        675.0      679.0  \n",
      "3        750.0      754.0  \n",
      "4        745.0      749.0  \n",
      "...        ...        ...  \n",
      "1610     650.0      654.0  \n",
      "1611     700.0      704.0  \n",
      "1612     700.0      704.0  \n",
      "1613     640.0      644.0  \n",
      "1614     660.0      664.0  \n",
      "\n",
      "[1615 rows x 8 columns]\n"
     ]
    }
   ],
   "source": [
    "print(df)"
   ]
  },
  {
   "cell_type": "code",
   "execution_count": 31,
   "metadata": {},
   "outputs": [],
   "source": [
    "df['Credit Score'] = (df['fico_low'] + df['fico_high'])/2"
   ]
  },
  {
   "cell_type": "code",
   "execution_count": 33,
   "metadata": {},
   "outputs": [],
   "source": [
    "df = df[['loan_amnt','state','annual_inc','int_rate','delinquent','disbursal_date','Credit Score']]"
   ]
  },
  {
   "cell_type": "code",
   "execution_count": 35,
   "metadata": {},
   "outputs": [],
   "source": [
    "df.to_csv('auto_data.csv', encoding='utf-8', index=False)"
   ]
  }
 ],
 "metadata": {
  "kernelspec": {
   "display_name": "Python 3",
   "language": "python",
   "name": "python3"
  },
  "language_info": {
   "codemirror_mode": {
    "name": "ipython",
    "version": 3
   },
   "file_extension": ".py",
   "mimetype": "text/x-python",
   "name": "python",
   "nbconvert_exporter": "python",
   "pygments_lexer": "ipython3",
   "version": "3.7.3"
  }
 },
 "nbformat": 4,
 "nbformat_minor": 2
}
